{
 "cells": [
  {
   "cell_type": "markdown",
   "metadata": {},
   "source": [
    "# Find the best neighborhood\n",
    "## Freiburg, Germany\n",
    "\n",
    "## Introduction:\n",
    "Usually people tend to explore the places before moving to a new country, state, city or place for their work or to start a new life and that involves so many factors including neighborhood analysis. That calls for a search algorithm that usually returns the requested features such as population rate, median house price, school ratings, crime rates, weather conditions, recreational facilities etc. It’d be nice to have a hassle-free application that could spit out an extensive analysis of all these features for a neighborhood or a comparative analysis between neighborhoods with just sending out the names of the neighborhoods. \n",
    "This Project takes this requirement as its main idea to help the stakeholders to achieve the desired results, so as to help them spend their time and money in some other productive means rather keep them trapped in an infinite loop of extensive search engines. \n",
    "This Project would help the stakeholders take a better decision on choosing the best neighborhood out of many neighborhoods to build/buy their houses in Freiburg city based on the distribution of various facilities in and around that neighborhood. As an example, this project would compare 2 randomly picked neighborhoods and analyses the top 5 most common venues in each of those two neighborhoods based on the number of visits by people in each of those places. \n",
    "\n",
    "## Data:\n",
    "For this demonstration, I will simplify the analysis by using the following criterium for comparison: 1. school rating 2. house price 3. popular venues.\n",
    "This demonstration will make use of the following data sources. Some of the original data sources are in German. I will translate the necessary parts in English such as \"Stadtteil\" means neighborhood and \"Postleitzahl\" means zip code. \n",
    "\n",
    " 1.List of Freiburg's neighborhoods and their zip code Data will retrieved from https://www.suche-postleitzahl.org/freiburg-plz-79098-79117.40f9 \n",
    "2. Average immobilien price for the selected neighborhoods https://www.immoverkauf24.de/immobilienpreise/preise-freiburg/ \n",
    "3. school rating https://freiburg.stadtbesten.de/besten-liste/die-besten-allgemeinbildenden-gymnasien-in-freiburg/ \n",
    "4. Freiburg location data retrieved using Foursquare location API. (FourSquare website: www.foursquare.co\n",
    "\n",
    "Foursquare API:\n",
    "This project would use Four-square API as its prime data gathering source as it has a database of more than 105 million places, especially their places API which provides the ability to perform location search, location sharing and details about a business. Photos, tips and reviews jolted by Foursquare users can also be used in many productive ways to add value to the results.\n",
    "\n",
    "## Methodology:\n",
    "HTTP requests would be made to this Foursquare API server using zip codes of the Freiburg city neighborhoods to pull the location information (Latitude and Longitude).\n",
    "\n",
    "Foursquare API search feature would be enabled to collect the nearby places of the neighborhoods. Due to http request limitations the number of places per neighborhood parameter would reasonably be set to 100 and the radius parameter would be set to 700.\n",
    "\n",
    "Folium- Python visualization library would be used to visualize the neighborhoods cluster distribution of Freiburg city over an interactive leaflet map.\n",
    "\n",
    "Extensive comparative analysis of two randomly picked neighborhoods world be carried out to derive the desirable insights from the outcomes using python’s scientific libraries Pandas, NumPy and Scikit-learn.\n",
    "\n",
    "Unsupervised machine learning algorithm K-mean clustering would be applied to form the clusters of different categories of places residing in and around the neighborhoods. These clusters from each of those two chosen neighborhoods would be analyzed individually collectively and comparatively to derive the conclusions.\n",
    "\n",
    "## Results:\n",
    "Two neighborhoods are chosen, namely Haslach and Rieselfeld.\n",
    "Haslach gets a 10 of 10 for school ranking, while Rieselfelds get a 9.\n",
    "Haslach's average immobilien price is 4499€ per square meter, while Rieselfeld's is 4521€ per square meter.\n",
    "The top 5 venues for Haslach contain supermarket, tram station, Italian restaurant,hotel and fitness center, while the top 5 for Rieselfeld are supermarket, Italien restaurant, fitness center, climbing gym and sport center.\n",
    "\n",
    "## Discussion:\n",
    "The differences are not huge. It is important to remember that each stakeholder may have different benchmarks for measuring a neighborhood. That's why we have to include hard indexs auch as house price as well as soft indexs such as popular venues.\n",
    "\n",
    "## Conclusion\n",
    "Haslach is slighly better than Rieselfeld because the school ranks higher, the house price is cheaper compared to Rieselfeld. In addition, the public traffic is more convenient in Haslach. But you can choose Rieselfeld if you enjoy doing sports because the other differences are not huge and Rieselfeld has more sport infrastructures. "
   ]
  },
  {
   "cell_type": "code",
   "execution_count": null,
   "metadata": {},
   "outputs": [],
   "source": []
  }
 ],
 "metadata": {
  "kernelspec": {
   "display_name": "Python 3",
   "language": "python",
   "name": "python3"
  },
  "language_info": {
   "codemirror_mode": {
    "name": "ipython",
    "version": 3
   },
   "file_extension": ".py",
   "mimetype": "text/x-python",
   "name": "python",
   "nbconvert_exporter": "python",
   "pygments_lexer": "ipython3",
   "version": "3.7.3"
  }
 },
 "nbformat": 4,
 "nbformat_minor": 2
}
